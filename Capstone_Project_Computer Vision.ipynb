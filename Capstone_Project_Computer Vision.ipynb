{
 "cells": [
  {
   "cell_type": "code",
   "execution_count": 27,
   "metadata": {},
   "outputs": [],
   "source": [
    "import cv2\n",
    "import numpy as np"
   ]
  },
  {
   "cell_type": "code",
   "execution_count": 89,
   "metadata": {},
   "outputs": [
    {
     "data": {
      "text/plain": [
       "'4.2.0'"
      ]
     },
     "execution_count": 89,
     "metadata": {},
     "output_type": "execute_result"
    }
   ],
   "source": [
    "cv2.__version__"
   ]
  },
  {
   "cell_type": "code",
   "execution_count": 138,
   "metadata": {},
   "outputs": [],
   "source": [
    "capstone_img = cv2.imread('capstone_coins.png')"
   ]
  },
  {
   "cell_type": "markdown",
   "metadata": {},
   "source": [
    "Circle Detection"
   ]
  },
  {
   "cell_type": "code",
   "execution_count": 139,
   "metadata": {},
   "outputs": [],
   "source": [
    "# Convert to grayscale\n",
    "capstone_gray = cv2.cvtColor(capstone_img, cv2.COLOR_BGR2GRAY)"
   ]
  },
  {
   "cell_type": "code",
   "execution_count": 140,
   "metadata": {},
   "outputs": [],
   "source": [
    "# Blur using 3 * 3 kernel.\n",
    "#gray_blurred = cv2.blur(capstone_gray, (3,3))\n",
    "gray_blurred = cv2.medianBlur(capstone_gray, 5)\n",
    "cimg = cv2.cvtColor(gray_blurred, cv2.COLOR_GRAY2BGR)"
   ]
  },
  {
   "cell_type": "code",
   "execution_count": 141,
   "metadata": {},
   "outputs": [],
   "source": [
    "# Apply Hough transform on the blurred image.\n",
    "detected_circles = cv2.HoughCircles(gray_blurred, cv2.HOUGH_GRADIENT, 1,\n",
    "                                   50, param1 = 100, param2 = 30, \n",
    "                                    minRadius = 20, maxRadius = 50)\n"
   ]
  },
  {
   "cell_type": "code",
   "execution_count": 142,
   "metadata": {},
   "outputs": [],
   "source": [
    "def get_radii(circles):\n",
    "    radii = []\n",
    "    for i in circles[0, :]:\n",
    "        radii.append(i[2])\n",
    "    return radii"
   ]
  },
  {
   "cell_type": "code",
   "execution_count": 143,
   "metadata": {},
   "outputs": [],
   "source": [
    "def get_brightness(img, circles, size):\n",
    "    avg = []\n",
    "    for i in circles[0, :]:\n",
    "        col = np.mean(img[i[1]-size:i[1]+size, i[0]-size:i[0]+size])\n",
    "        col = np.uint16(np.around(col))\n",
    "        avg.append(col)\n",
    "    return avg"
   ]
  },
  {
   "cell_type": "code",
   "execution_count": 144,
   "metadata": {},
   "outputs": [],
   "source": [
    "if detected_circles is not None: \n",
    "    \n",
    "    # Convert the circle parameters a, b and r to integers. \n",
    "    detected_circles = np.uint16(np.around(detected_circles)) \n",
    "   \n",
    "    radii = get_radii(detected_circles)\n",
    "    brightness = get_brightness(capstone_img, detected_circles, 20)\n",
    "    \n",
    "    values = []\n",
    "    \n",
    "    for a,b in zip(radii, brightness):\n",
    "        if 39<=a<=42 and 73<=b<=135:\n",
    "            values.append(1)\n",
    "        elif 48<=a<=49 and 90<=b<=103:\n",
    "            values.append(2)\n",
    "        elif a==31 and b >= 180:\n",
    "            values.append(5)\n",
    "        elif a == 49 and b >= 180:\n",
    "            values.append(10)\n",
    "            \n",
    "    count = 0\n",
    "    \n",
    "    for pt in detected_circles[0, :]: \n",
    "        a, b, r = pt[0], pt[1], pt[2] \n",
    "  \n",
    "        # Draw the circumference of the circle. \n",
    "        cv2.circle(capstone_img, (a, b), r, (0, 255, 0), 3) \n",
    "        cv2.putText(capstone_img, f'{values[count]}' + 'p', (int(a-30), int(b-15)), \n",
    "                   cv2.FONT_HERSHEY_SIMPLEX, 0.65, (255, 255, 255), 1)\n",
    "  \n",
    "        # Draw a small circle (of radius 1) to show the center. \n",
    "        cv2.circle(capstone_img, (a, b), 1, (0, 0, 255), 3) \n",
    "        count +=1\n",
    "    \n",
    "    cv2.putText(capstone_img, \"Estimated value is {}p\" .format(sum(values)), (50, 100), \n",
    "                   cv2.FONT_HERSHEY_SIMPLEX, 0.65, (255, 255, 255), 1)\n",
    "    \n",
    "    cv2.imshow(\"Detected Circle\", capstone_img) \n",
    "    cv2.waitKey(0) \n",
    "    cv2.destroyAllWindows()"
   ]
  },
  {
   "cell_type": "code",
   "execution_count": 25,
   "metadata": {},
   "outputs": [],
   "source": []
  },
  {
   "cell_type": "code",
   "execution_count": null,
   "metadata": {},
   "outputs": [],
   "source": []
  }
 ],
 "metadata": {
  "kernelspec": {
   "display_name": "Python 3",
   "language": "python",
   "name": "python3"
  },
  "language_info": {
   "codemirror_mode": {
    "name": "ipython",
    "version": 3
   },
   "file_extension": ".py",
   "mimetype": "text/x-python",
   "name": "python",
   "nbconvert_exporter": "python",
   "pygments_lexer": "ipython3",
   "version": "3.6.5"
  }
 },
 "nbformat": 4,
 "nbformat_minor": 4
}
